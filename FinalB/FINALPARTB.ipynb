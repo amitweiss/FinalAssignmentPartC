{
 "cells": [
  {
   "cell_type": "markdown",
   "metadata": {},
   "source": [
    "# Final Project   -  Part B"
   ]
  },
  {
   "cell_type": "markdown",
   "metadata": {},
   "source": [
    "## We decided to add more data to our model bacause we saw that our data is too similar based on our models results (and with sigal's adivce)\n",
    "\n",
    "# We switched the 'text' title and the 'type' title in mistake so at the code it seems to be the opposite"
   ]
  },
  {
   "cell_type": "markdown",
   "metadata": {},
   "source": [
    "## Get recipes from allrecipes site"
   ]
  },
  {
   "cell_type": "code",
   "execution_count": 1,
   "metadata": {
    "collapsed": true
   },
   "outputs": [],
   "source": [
    "%matplotlib inline\n",
    "import matplotlib.pyplot as plt\n",
    "from matplotlib.pyplot import rcParams"
   ]
  },
  {
   "cell_type": "code",
   "execution_count": 2,
   "metadata": {
    "collapsed": false
   },
   "outputs": [],
   "source": [
    "import requests\n",
    "from bs4 import BeautifulSoup\n",
    "import json\n",
    "\n",
    "def fix (so):\n",
    "    return \"http://allrecipes.com/\"+so.get('href')\n",
    "\n",
    "r = requests.get(\"http://allrecipes.com/recipes/1254/desserts/fruit-desserts/apple-desserts/?internalSource=recipe%20breadcrumb&referringId=8358&referringContentType=recipe&referringPosition=5&clickId=recipe%20breadcrumb%205&page=2\")\n",
    "soup = BeautifulSoup(r.text, \"lxml\")\n",
    "g=soup.find(\"section\", class_=\"grid salvattore-grid grid-fixed\").find_all(\"a\")\n",
    "\n",
    "recipe_links = map(fix,g)[0:150]\n"
   ]
  },
  {
   "cell_type": "code",
   "execution_count": 3,
   "metadata": {
    "collapsed": false
   },
   "outputs": [
    {
     "data": {
      "text/plain": [
       "['http://allrecipes.com//recipe/15800/apple-betty/',\n",
       " 'http://allrecipes.com//recipe/232922/apple-cinnamon-white-cake/',\n",
       " 'http://allrecipes.com//recipe/46395/applesauce-bars/',\n",
       " 'http://allrecipes.com//recipe/12681/apple-pie-filling/',\n",
       " 'http://allrecipes.com//recipe/68348/apple-brownies/',\n",
       " 'http://allrecipes.com//recipe/57582/sour-cream-apple-pie-deluxe/',\n",
       " 'http://allrecipes.com//recipe/25552/apple-banana-cupcakes/',\n",
       " 'http://allrecipes.com//recipe/15908/caramel-apple-pie-ii/',\n",
       " 'http://allrecipes.com//recipe/8358/apple-cake-iv/',\n",
       " 'http://allrecipes.com//recipe/177053/slow-cooker-apple-crisp/',\n",
       " 'http://allrecipes.com//recipe/14148/orange-cream-fruit-salad/',\n",
       " 'http://allrecipes.com//recipe/16853/maple-apple-crisp/',\n",
       " 'http://allrecipes.com//recipe/229088/apple-crisp-with-oat-topping/',\n",
       " 'http://allrecipes.com//recipe/24069/nanas-apple-crisp/',\n",
       " 'http://allrecipes.com//recipe/46232/old-fashioned-apple-dumplings/',\n",
       " 'http://allrecipes.com//recipe/9768/glazed-apple-cookies/',\n",
       " 'http://allrecipes.com//recipe/8454/apple-cake-v/',\n",
       " 'http://allrecipes.com//recipe/22338/apple-crisp-ii/',\n",
       " 'http://allrecipes.com//recipe/7620/apple-bundt-cake/',\n",
       " 'http://allrecipes.com//recipe/15138/apple-pecan-cobbler/']"
      ]
     },
     "execution_count": 3,
     "metadata": {},
     "output_type": "execute_result"
    }
   ],
   "source": [
    "from recipe_scrapers import scrap_me\n",
    "from collections import Counter\n",
    "# recipe_links\n",
    "r1 = [k for k,v in Counter(recipe_links).items() if v>1]\n",
    "r1\n",
    "# len(recipe_links)\n",
    "# for link in recipe_links:\n",
    "#       print(link)\n",
    "#     scrap_me = scrap_me(link)\n",
    "#     scrap_me.instructions()\n",
    "\n"
   ]
  },
  {
   "cell_type": "code",
   "execution_count": 4,
   "metadata": {
    "collapsed": false
   },
   "outputs": [],
   "source": [
    "def fix (so):\n",
    "    return \"http://allrecipes.com/\"+so.get('href')\n",
    "\n",
    "r = requests.get(\"http://allrecipes.com/recipes/17527/desserts/fruit-desserts/banana-desserts/?internalSource=hub%20nav&referringId=17140&referringContentType=recipe%20hub&linkName=hub%20nav%20daughter&clickId=hub%20nav%202&page=2\")\n",
    "soup = BeautifulSoup(r.text, \"lxml\")\n",
    "g=soup.find(\"section\", class_=\"grid salvattore-grid grid-fixed\").find_all(\"a\")\n",
    "\n",
    "recipe_links1 = map(fix,g)[0:150]\n",
    "\n",
    "\n",
    "\n"
   ]
  },
  {
   "cell_type": "code",
   "execution_count": 5,
   "metadata": {
    "collapsed": false
   },
   "outputs": [
    {
     "data": {
      "text/plain": [
       "['http://allrecipes.com//recipe/15002/banana-oatmeal-cookies-i/',\n",
       " 'http://allrecipes.com//recipe/21310/aunt-bettys-banana-pudding/',\n",
       " 'http://allrecipes.com//recipe/25789/banana-bars/',\n",
       " 'http://allrecipes.com//recipe/20038/campfire-banana-splits/',\n",
       " 'http://allrecipes.com//recipe/20256/banana-chocolate-chip-dessert/',\n",
       " 'http://allrecipes.com//recipe/8445/english-trifle/',\n",
       " 'http://allrecipes.com//recipe/8258/banana-cake-v/',\n",
       " 'http://allrecipes.com//recipe/12625/banoffee/',\n",
       " 'http://allrecipes.com//recipe/7899/banana-oatmeal-crumb-cake/',\n",
       " 'http://allrecipes.com//recipe/17983/banana-oatmeal-cookies-ii/',\n",
       " 'http://allrecipes.com//recipe/77309/creamy-banana-pudding/',\n",
       " 'http://allrecipes.com//recipe/11386/banana-bread-cookies/',\n",
       " 'http://allrecipes.com//recipe/18990/banana-pudding-i/',\n",
       " 'http://allrecipes.com//recipe/25587/gramma-berthas-banana-cake/',\n",
       " 'http://allrecipes.com//recipe/8301/banana-loaf-cake-i/',\n",
       " 'http://allrecipes.com//recipe/24943/chocolate-banana-bread-pudding/',\n",
       " 'http://allrecipes.com//recipe/16875/homemade-banana-pudding-pie/',\n",
       " 'http://allrecipes.com//recipe/188361/cocoa-banana-bars/',\n",
       " 'http://allrecipes.com//recipe/21313/banana-pudding-iii/',\n",
       " 'http://allrecipes.com//recipe/25559/banana-cake-x/']"
      ]
     },
     "execution_count": 5,
     "metadata": {},
     "output_type": "execute_result"
    }
   ],
   "source": [
    "r2 = [k for k,v in Counter(recipe_links1).items() if v>1]\n",
    "r2"
   ]
  },
  {
   "cell_type": "code",
   "execution_count": 6,
   "metadata": {
    "collapsed": false
   },
   "outputs": [
    {
     "data": {
      "text/plain": [
       "['http://allrecipes.com//recipe/27478/white-chocolate-blueberry-cheesecake/',\n",
       " 'http://allrecipes.com//recipe/9651/blueberry-bars/',\n",
       " 'http://allrecipes.com//recipe/72747/blueberry-lemon-pound-cake/',\n",
       " 'http://allrecipes.com//recipe/65071/blueberry-ricotta-squares/',\n",
       " 'http://allrecipes.com//recipe/74029/nova-scotia-blueberry-cream-cake/',\n",
       " 'http://allrecipes.com//recipe/237063/chef-johns-blueberry-clafoutis/',\n",
       " 'http://allrecipes.com//recipe/64787/cherry-blueberry-pie/',\n",
       " 'http://allrecipes.com//recipe/22194/blueberry-coffee-cake-ii/',\n",
       " 'http://allrecipes.com//recipe/9652/blueberry-drop-cookies/',\n",
       " 'http://allrecipes.com//recipe/7934/blueberry-cheesecake/',\n",
       " 'http://allrecipes.com//recipe/12341/blueberry-cherry-pie/',\n",
       " 'http://allrecipes.com//recipe/12657/topless-blueberry-pie/',\n",
       " 'http://allrecipes.com//recipe/228532/blueberry-shortbread-bars/',\n",
       " 'http://allrecipes.com//recipe/77297/blueberry-streusel-cobbler/',\n",
       " 'http://allrecipes.com//recipe/12395/fresh-blueberry-pie-ii/',\n",
       " 'http://allrecipes.com//recipe/25028/blueberry-lemon-crumb-bars/',\n",
       " 'http://allrecipes.com//recipe/223253/easy-blueberry-cobbler/',\n",
       " 'http://allrecipes.com//recipe/74837/sugar-free-blueberry-coffee-cake/',\n",
       " 'http://allrecipes.com//cook/foodwisheswithchefjohn/',\n",
       " 'http://allrecipes.com//recipe/60012/blueberry-gingerbread/',\n",
       " 'http://allrecipes.com//recipe/223399/best-blueberry-buckle/']"
      ]
     },
     "execution_count": 6,
     "metadata": {},
     "output_type": "execute_result"
    }
   ],
   "source": [
    "def fix (so):\n",
    "    return \"http://allrecipes.com/\"+so.get('href')\n",
    "\n",
    "r = requests.get(\"http://allrecipes.com/recipes/17532/desserts/fruit-desserts/blueberry-desserts/?internalSource=hub%20nav&referringId=17140&referringContentType=recipe%20hub&linkName=hub%20nav%20daughter&clickId=hub%20nav%202&page=2\")\n",
    "soup = BeautifulSoup(r.text, \"lxml\")\n",
    "g=soup.find(\"section\", class_=\"grid salvattore-grid grid-fixed\").find_all(\"a\")\n",
    "\n",
    "recipe_links2 = map(fix,g)[0:150]\n",
    "r3 = [k for k,v in Counter(recipe_links2).items() if v>1]\n",
    "r3\n"
   ]
  },
  {
   "cell_type": "code",
   "execution_count": 7,
   "metadata": {
    "collapsed": false
   },
   "outputs": [
    {
     "data": {
      "text/plain": [
       "['http://allrecipes.com//recipe/15800/apple-betty/',\n",
       " 'http://allrecipes.com//recipe/232922/apple-cinnamon-white-cake/',\n",
       " 'http://allrecipes.com//recipe/46395/applesauce-bars/',\n",
       " 'http://allrecipes.com//recipe/12681/apple-pie-filling/',\n",
       " 'http://allrecipes.com//recipe/68348/apple-brownies/',\n",
       " 'http://allrecipes.com//recipe/57582/sour-cream-apple-pie-deluxe/',\n",
       " 'http://allrecipes.com//recipe/25552/apple-banana-cupcakes/',\n",
       " 'http://allrecipes.com//recipe/15908/caramel-apple-pie-ii/',\n",
       " 'http://allrecipes.com//recipe/8358/apple-cake-iv/',\n",
       " 'http://allrecipes.com//recipe/177053/slow-cooker-apple-crisp/',\n",
       " 'http://allrecipes.com//recipe/14148/orange-cream-fruit-salad/',\n",
       " 'http://allrecipes.com//recipe/16853/maple-apple-crisp/',\n",
       " 'http://allrecipes.com//recipe/229088/apple-crisp-with-oat-topping/',\n",
       " 'http://allrecipes.com//recipe/24069/nanas-apple-crisp/',\n",
       " 'http://allrecipes.com//recipe/46232/old-fashioned-apple-dumplings/',\n",
       " 'http://allrecipes.com//recipe/9768/glazed-apple-cookies/',\n",
       " 'http://allrecipes.com//recipe/8454/apple-cake-v/',\n",
       " 'http://allrecipes.com//recipe/22338/apple-crisp-ii/',\n",
       " 'http://allrecipes.com//recipe/7620/apple-bundt-cake/',\n",
       " 'http://allrecipes.com//recipe/15138/apple-pecan-cobbler/',\n",
       " 'http://allrecipes.com//recipe/15002/banana-oatmeal-cookies-i/',\n",
       " 'http://allrecipes.com//recipe/21310/aunt-bettys-banana-pudding/',\n",
       " 'http://allrecipes.com//recipe/25789/banana-bars/',\n",
       " 'http://allrecipes.com//recipe/20038/campfire-banana-splits/',\n",
       " 'http://allrecipes.com//recipe/20256/banana-chocolate-chip-dessert/',\n",
       " 'http://allrecipes.com//recipe/8445/english-trifle/',\n",
       " 'http://allrecipes.com//recipe/8258/banana-cake-v/',\n",
       " 'http://allrecipes.com//recipe/12625/banoffee/',\n",
       " 'http://allrecipes.com//recipe/7899/banana-oatmeal-crumb-cake/',\n",
       " 'http://allrecipes.com//recipe/17983/banana-oatmeal-cookies-ii/',\n",
       " 'http://allrecipes.com//recipe/77309/creamy-banana-pudding/',\n",
       " 'http://allrecipes.com//recipe/11386/banana-bread-cookies/',\n",
       " 'http://allrecipes.com//recipe/18990/banana-pudding-i/',\n",
       " 'http://allrecipes.com//recipe/25587/gramma-berthas-banana-cake/',\n",
       " 'http://allrecipes.com//recipe/8301/banana-loaf-cake-i/',\n",
       " 'http://allrecipes.com//recipe/24943/chocolate-banana-bread-pudding/',\n",
       " 'http://allrecipes.com//recipe/16875/homemade-banana-pudding-pie/',\n",
       " 'http://allrecipes.com//recipe/188361/cocoa-banana-bars/',\n",
       " 'http://allrecipes.com//recipe/21313/banana-pudding-iii/',\n",
       " 'http://allrecipes.com//recipe/25559/banana-cake-x/',\n",
       " 'http://allrecipes.com//recipe/27478/white-chocolate-blueberry-cheesecake/',\n",
       " 'http://allrecipes.com//recipe/9651/blueberry-bars/',\n",
       " 'http://allrecipes.com//recipe/72747/blueberry-lemon-pound-cake/',\n",
       " 'http://allrecipes.com//recipe/65071/blueberry-ricotta-squares/',\n",
       " 'http://allrecipes.com//recipe/74029/nova-scotia-blueberry-cream-cake/',\n",
       " 'http://allrecipes.com//recipe/237063/chef-johns-blueberry-clafoutis/',\n",
       " 'http://allrecipes.com//recipe/64787/cherry-blueberry-pie/',\n",
       " 'http://allrecipes.com//recipe/22194/blueberry-coffee-cake-ii/',\n",
       " 'http://allrecipes.com//recipe/9652/blueberry-drop-cookies/',\n",
       " 'http://allrecipes.com//recipe/7934/blueberry-cheesecake/',\n",
       " 'http://allrecipes.com//recipe/12341/blueberry-cherry-pie/',\n",
       " 'http://allrecipes.com//recipe/12657/topless-blueberry-pie/',\n",
       " 'http://allrecipes.com//recipe/228532/blueberry-shortbread-bars/',\n",
       " 'http://allrecipes.com//recipe/77297/blueberry-streusel-cobbler/',\n",
       " 'http://allrecipes.com//recipe/12395/fresh-blueberry-pie-ii/',\n",
       " 'http://allrecipes.com//recipe/25028/blueberry-lemon-crumb-bars/',\n",
       " 'http://allrecipes.com//recipe/223253/easy-blueberry-cobbler/',\n",
       " 'http://allrecipes.com//recipe/74837/sugar-free-blueberry-coffee-cake/',\n",
       " 'http://allrecipes.com//cook/foodwisheswithchefjohn/',\n",
       " 'http://allrecipes.com//recipe/60012/blueberry-gingerbread/',\n",
       " 'http://allrecipes.com//recipe/223399/best-blueberry-buckle/']"
      ]
     },
     "execution_count": 7,
     "metadata": {},
     "output_type": "execute_result"
    }
   ],
   "source": [
    "final_links_recipe = r1 + r2 + r3\n",
    "final_links_recipe"
   ]
  },
  {
   "cell_type": "code",
   "execution_count": 9,
   "metadata": {
    "collapsed": false,
    "scrolled": true
   },
   "outputs": [
    {
     "data": {
      "text/plain": [
       "[[u'Preheat oven to 375 degrees F (190 degrees C). Lightly grease a 9 inch pie plate.',\n",
       "  u'Mound sliced apples in the pie plate. Sprinkle with orange juice.',\n",
       "  u'In a medium bowl, mix the flour, sugar, cinnamon, nutmeg, and salt. Cut in butter until the mixture resembles coarse crumbs. Scatter over the apples.',\n",
       "  u'Bake in preheated oven for 45 minutes. Serve warm.',\n",
       "  u''],\n",
       " [u'Preheat oven to 350 degrees F (175 degrees C). Grease and flour a 9x5-inch loaf pan.',\n",
       "  u'Mix brown sugar and cinnamon together in a bowl.',\n",
       "  u'Beat white sugar and butter together in a bowl using an electric mixer until smooth and creamy. Beat in eggs, 1 at a time, until incorporated; add vanilla extract.',\n",
       "  u'Combine flour and baking powder together in a bowl; stir into creamed butter mixture. Mix milk into batter until smooth. Pour half the batter into the prepared loaf pan; add half the apples and half the brown sugar mixture. Lightly pat apple mixture into batter. Pour the remaining batter over apple layer; top with remaining apples and brown sugar mixture. Lightly pat apples into batter; swirl brown sugar mixture through apples using a finger or spoon.',\n",
       "  u'Bake in the preheated oven until a toothpick inserted in the center of the loaf comes out clean, 30 to 40 minutes.',\n",
       "  u''],\n",
       " [u'Preheat the oven to 350 degrees F (175 degrees C). Grease a 9x13 inch baking pan.',\n",
       "  u'In a medium bowl, mix together the butter, brown sugar and egg until smooth. Stir in applesauce. Combine the flour, baking soda, salt and pumpkin pie spice; stir into the applesauce mixture until well blended. Spread evenly into the prepared pan.',\n",
       "  u'Bake for 25 minutes in the preheated oven, or until edges are golden. Cool in the pan over a wire rack.',\n",
       "  u\"In a small bowl, mix together the confectioners' sugar and margarine. Stir in vanilla and milk until smooth. Spread over cooled bars before cutting into squares.\",\n",
       "  u''],\n",
       " [u'In a large bowl, toss apples with lemon juice and set aside. Pour water into a Dutch oven over medium heat. Combine sugar, cornstarch, cinnamon, salt, and nutmeg in a bowl; add to water, stir well, and bring to a boil. Boil for 2 minutes, stirring constantly.',\n",
       "  u'Add apples and return to a boil. Reduce heat, cover and simmer until apples are tender, about 6 to 8 minutes. Cool for 30 minutes.',\n",
       "  u'Ladle into 5 freezer containers, leaving 1/2 inch headspace. Cool at room temperature no longer than 1 1/2 hours.',\n",
       "  u'Seal and freeze. Can be stored for up to 12 months.',\n",
       "  u''],\n",
       " [u'Preheat oven to 350 degrees F (175 degrees C). Grease a 9x9 inch baking dish.',\n",
       "  u'In a large bowl, beat together the melted butter, sugar, and egg until fluffy. Fold in the apples and walnuts. In a separate bowl, sift together the flour, salt, baking powder, baking soda, and cinnamon. Stir the flour mixture into the wet mixture until just blended. Spread the batter evenly in the prepared baking dish.',\n",
       "  u'Bake 35 minutes in the preheated oven, or until a toothpick inserted in the center comes out clean.',\n",
       "  u''],\n",
       " [u'Preheat the oven to 425 degrees F (220 degrees C). Press the pie crust into and up the sides of a 9 inch pie plate.',\n",
       "  u'In a medium bowl, stir together 3/4 cup sugar, 2 tablespoons of flour, and salt. Mix in the sour cream, egg and vanilla until smooth. Add apples, and stir to coat. Scrape the mixture into the pie shell.',\n",
       "  u'Bake for 15 minutes in the preheated oven, then reduce heat to 350 degrees F (175 degrees C), and continue baking for 30 minutes more.',\n",
       "  u'While the pie is baking, prepare the topping in a medium bowl. Stir together 1/3 cup of flour, 1/3 cup sugar, and cinnamon. Cut in the butter until the mixture resembles fine crumbs.',\n",
       "  u'After the 30 minute bake time has passed, cover the top of the pie with the crumb topping, and continue to bake for 15 minutes, or until topping is lightly browned and apples are tender. Allow the pie to cool, then refrigerate until chilled before serving.',\n",
       "  u''],\n",
       " [u'Preheat oven to 375 degrees F (190 degrees C). Grease and flour 24 muffin cups, or use paper liners. Sift together the flour, baking soda, salt, cinnamon, and nutmeg. Set aside.',\n",
       "  u'In a large bowl, cream together the shortening and sugar until light and fluffy. Beat in the eggs one at a time, then stir in the vanilla and buttermilk. Beat in the flour mixture, mixing just until incorporated. Fold in the mashed bananas and shredded apples. Fill each muffin cup half full.',\n",
       "  u'Bake in the preheated oven for 20 to 25 minutes, or until a toothpick inserted into the center comes out clean. Allow to cool.',\n",
       "  u''],\n",
       " [u'Preheat oven to 375 degrees F (190 degrees C).',\n",
       "  u'To Make Taffy: In a small bowl combine brown sugar, melted butter or margarine, and 1/3 cup flour. Mix well and set aside.',\n",
       "  u'To Make Apple Filling: Place apples in a large bowl. Add white sugar, 3 tablespoons flour, cinnamon, and lemon juice. Toss until all ingredients are mixed well and apples are thoroughly coated.',\n",
       "  u'Spoon half of apple filling into pastry-lined deep-dish pan. Top with half of caramels and half of taffy mixture. Repeat process with remaining apple filling, caramels and taffy mixture. Place top pastry over filling and seal well (this is very important--if edges are not sealed, caramel will leak out all over). Cut steam vents and brush top crust with milk or light cream.',\n",
       "  u'Cover pie with foil and place on a baking sheet. Bake in preheated oven for 25 minutes. Remove foil from pie and bake for another 20 to 25 minutes, until crust is golden. Serve warm.',\n",
       "  u''],\n",
       " [u'Preheat oven to 350 degrees F (175 degrees C) lightly grease and flour a 9x13 inch pan.',\n",
       "  u'Sift together flour, salt, cinnamon and baking powder. Set aside.',\n",
       "  u'In a large bowl, beat eggs and sugar for 15 minutes on high speed with an electric mixer. Add oil and blend in.',\n",
       "  u'Add four mixture and mix well. Add vanilla. Fold in apples and nuts. Pour batter into 9x13 inch pan.',\n",
       "  u'In a small bowl, mix 4 teaspoons sugar with 1 teaspoon cinnamon. Sprinkle over cake.',\n",
       "  u'Bake at 350 degrees F (175 degrees C) for 50 to 60 minutes or until a toothpick inserted into center of cake comes out clean.',\n",
       "  u''],\n",
       " [u'Mix flour, brown sugar, 1/2 cup of white sugar, 1/2 teaspoon cinnamon, nutmeg, and salt together in a bowl. Combine butter with the flour mixture using fingers or a fork until coarse crumbs form. Stir in walnuts and set aside.',\n",
       "  u'Whisk together 1/3 cup sugar, cornstarch, ginger, and 1/2 teaspoon cinnamon. Place the apples in a slow cooker, stir in the cornstarch mixture; toss with lemon juice. Sprinkle the walnut crumb topping on top. Cover and cook on High for 2 hours or Low for 4 hours, until apples are tender. Partially uncover the slow cooker to allow the topping to harden, about 1 hour.',\n",
       "  u''],\n",
       " [u'In a medium mixing bowl, combine pudding mix, milk, and orange juice concentrate. Beat with an electric mixer on medium speed for 2 minutes. Mix in sour cream.',\n",
       "  u'In a large salad bowl, combine fruits. Gently mix in orange dressing. Cover, and refrigerate for 2 hours.',\n",
       "  u''],\n",
       " [u'Preheat oven to 375 degrees F (190 degrees C).',\n",
       "  u'Place apples in an 8x8 inch baking dish. Toss apples with syrup. In a separate bowl, mix together flour, oats, sugar, and salt. Cut in butter until mixture is crumbly. Sprinkle mixture evenly over apples.',\n",
       "  u'Bake in the preheated oven for 35 minutes, until topping is golden brown. Serve warm or at room temperature.',\n",
       "  u''],\n",
       " [u'Preheat oven to 350 degrees F (175 degrees C).',\n",
       "  u'Toss apples with white sugar and 1/2 teaspoon cinnamon in a medium bowl to coat; pour into a 9-inch square baking dish.',\n",
       "  u'Mix brown sugar, oats, flour, and 1 teaspoon cinnamon in a separate bowl. Use a pastry cutter or 2 forks to mash cold butter into the oats mixture until the mixture resembles coarse crumbs; spread over the apples to the edges of the baking dish. Pat the topping gently until even.',\n",
       "  u'Bake in preheated oven until golden brown and sides are bubbling, about 40 minutes.',\n",
       "  u''],\n",
       " [u'Preheat oven to 350 degrees F (175 degrees C).',\n",
       "  u'Place apples in a 9x13 inch baking dish. In a bowl, mix melted butter, flour, sugar, oats, and 1 tablespoon cinnamon to form a crumbly mixture. Sprinkle over apples. Dot with remaining 1/4 cup butter, and sprinkle with remaining 1 tablespoon cinnamon.',\n",
       "  u'Bake 50 minutes in the preheated oven, until lightly browned and apples are tender.',\n",
       "  u''],\n",
       " [u'Preheat oven to 400 degrees F (200 degrees C). Butter a 9x13 inch pan.',\n",
       "  u'On a lightly floured surface, roll pastry into a large rectangle, about 24 by 16 inches. Cut into 6 square pieces. Place an apple on each pastry square with the cored opening facing upward. Cut butter into 8 pieces. Place 1 piece of butter in the opening of each apple; reserve remaining butter for sauce. Divide brown sugar between apples, poking some inside each cored opening and the rest around the base of each apple. Sprinkle cinnamon and nutmeg over the apples.',\n",
       "  u'With slightly wet fingertips, bring one corner of pastry square up to the top of the apple, then bring the opposite corner to the top and press together. Bring up the two remaining corners, and seal. Slightly pinch the dough at the sides to completely seal in the apple. Repeat with the remaining apples. Place in prepared baking dish.',\n",
       "  u'In a saucepan, combine water, white sugar, vanilla extract and reserved butter. Place over medium heat, and bring to a boil in a large saucepan. Boil for 5 minutes, or until sugar is dissolved. Carefully pour over dumplings.',\n",
       "  u'Bake in preheated oven for 50 to 60 minutes. Place each apple dumpling in a dessert bowl, and spoon some sauce over the top.',\n",
       "  u''],\n",
       " [u'Beat shortening and brown sugar together until light and fluffy. Beat in egg and blend thoroughly.',\n",
       "  u'Stir together flour, baking soda, salt, cinnamon, cloves and nutmeg.',\n",
       "  u'Stir half the dry ingredients into creamed mixture. Stir in nuts, apple and raisins, then stir in remaining half of dry ingredients and milk. Mix well.',\n",
       "  u'Drop from tablespoon 1 1/2 inches apart onto lightly greased baking sheet. Bake in a preheated 400 degree oven for 10-12 minutes. Remove cookies to racks and while still warm, spread with glaze.',\n",
       "  u'To make Glaze: Combine powdered sugar, butter, vanilla and enough cream to make glaze of spreading consistency. Beat until smooth. Spread on warm cookies.',\n",
       "  u''],\n",
       " [u'Preheat oven to 350 degrees F (175 degrees C). Grease and flour a 9x13-inch pan.',\n",
       "  u'In a large bowl, sift together flour, sugar, salt, and baking soda. Make a well in the center and add oil, eggs, and vanilla. Mix well (batter will be thick). Fold in chopped apples and nuts. Spread batter into prepared pan.',\n",
       "  u'Bake in preheated oven until a toothpick inserted into cake comes out clean, 40 to 50 minutes. Glaze while still hot.',\n",
       "  u'To make the glaze: In a saucepan, combine brown sugar, milk, and butter. Bring to a boil and continue cooking for 2 1/2 minutes, stirring constantly. Pour over cake while still hot.',\n",
       "  u''],\n",
       " [u'Preheat oven to 350 degrees F (175 degrees C).',\n",
       "  u'In a medium bowl, combine flour, oats, brown sugar, cinnamon and melted butter. Stir until crumbly. Press half the oat mixture into a 9x13 inch baking dish. Cover with sliced apples.',\n",
       "  u'In a medium saucepan, combine white sugar, cornstarch, water and vanilla. Cook, stirring, until thick and clear, 10 minutes. Pour over apples. Cover apples with remaining crumble mixture.',\n",
       "  u'Bake in preheated oven 45 minutes, until bubbly and golden.',\n",
       "  u''],\n",
       " [u'Preheat oven to 350 degrees F (175 degrees C). Grease and flour a 10 inch Bundt or tube pan. In a medium bowl, combine the diced apples, 1 tablespoon white sugar and 1 teaspoon cinnamon; set aside. Sift together the flour, baking powder and salt; set aside.',\n",
       "  u'In a large bowl, combine 2 cups white sugar, oil, orange juice, vanilla and eggs. Beat at high speed until smooth. Stir in flour mixture. Fold in chopped walnuts.',\n",
       "  u'Pour 1/3 of the batter into prepared pan. Sprinkle with 1/2 of the apple mixture. Alternate layers of batter and filling, ending with batter.',\n",
       "  u\"Bake in preheated oven for 55 to 60 minutes, or until the top springs back when lightly touched. Let cool in pan for 10 minutes, then turn out onto a wire rack and cool completely. Sprinkle with confectioners' sugar.\",\n",
       "  u''],\n",
       " [u'Preheat oven to 325 degrees F (165 degrees C). Generously grease a 2-quart baking dish.',\n",
       "  u'Arrange apple slices in an even layer in the baking dish. In a small bowl, mix together 1/2 cup sugar, cinnamon, and 1/2 cup pecans. Sprinkle mixture over apples.',\n",
       "  u'In a medium bowl, mix together flour, 1 cup sugar, baking powder, and salt. In a separate bowl whisk together egg, evaporated milk, and melted butter. Pour milk mixture into flour mixture all at once, and stir until smooth. Pour mixture over apples, and sprinkle top with 1/4 cup pecans.',\n",
       "  u'Bake in the preheated oven for 55 minutes.',\n",
       "  u''],\n",
       " [u'Preheat oven to 375 degrees F (190 degrees C).',\n",
       "  u'In a medium bowl, cream butter and sugar together until smooth. Stir in the eggs and vanilla. Sift together the flour, baking soda, cloves and cinnamon, stir into the creamed mixture. Then add the mashed bananas, rolled oats and chocolate chips, mix until well blended.',\n",
       "  u'Drop dough by rounded spoonfuls onto unprepared cookie sheets. Bake for 10 to 12 minutes in the preheated oven. Remove cookies from pan to cool on wire racks.',\n",
       "  u''],\n",
       " [u'In a medium bowl, combine pudding mix and milk and stir until mix is dissolved. Refrigerate 15 minutes, until partially set.',\n",
       "  u'Stir condensed milk into pudding mixture until smooth. Fold in sour cream and whipped topping. Fold in bananas.',\n",
       "  u'Make a single layer of vanilla wafers in the bottom of a 9x13 inch dish. Spread pudding evenly over wafers. Crush remaining wafers and sprinkle on top. Refrigerate until serving.',\n",
       "  u''],\n",
       " [u'Preheat oven to 350 degrees F (175 degrees C). Grease a 9x13 inch baking pan.',\n",
       "  u'In a large bowl, cream together the shortening and sugar until smooth. Stir in the milk and 1 teaspoon vanilla. Combine the flour, baking soda and 1/2 teaspoon salt; stir into the sugar mixture. Mix in 1 banana, 1 teaspoon lemon juice and walnuts. Spread evenly into the prepared pan.',\n",
       "  u'Bake for 25 to 30 minutes in the preheated oven, until a toothpick inserted into the center comes out clean. Let bars cool in the pan on a wire rack.',\n",
       "  u\"To make the frosting: In a medium bowl, mix together the melted butter, 1 teaspoon vanilla, confectioners' sugar, 1/2 banana, 1/2 teaspoon of salt and 1/4 teaspoon lemon juice using an electric mixer. Beat until smooth. Spread over cooled bars and then cut into squares.\",\n",
       "  u''],\n",
       " [u'Preheat the grill for high heat.',\n",
       "  u'Spray 4 sheets of aluminum foil, large enough to wrap bananas, with cooking spray.',\n",
       "  u'Slice the peel of the banana from stem to bottom, while slicing the banana inside lengthwise. The bananas can be cut into slices instead if you like, (while still in the peel) for easier handling later.',\n",
       "  u'Carefully open the banana just wide enough to place the chocolate chips and marshmallows inside the peel with the banana. Stuff with as much of the chocolate chips and marshmallows as desired.',\n",
       "  u'Wrap the bananas with the aluminum foil and place on the grill or directly in the coals of a fire. Leave in long enough to melt the chips and the marshmallows, about 5 minutes. Unwrap bananas, open the peels wide, and eat with a spoon.',\n",
       "  u''],\n",
       " [u'Preheat oven to 350 degrees F (175 degrees C). Grease and flour a 10x15 inch jelly roll pan.',\n",
       "  u'In a large bowl, cream butter, white sugar and brown sugar until fluffy. Beat in egg and vanilla. Fold in mashed banana. In a separate bowl, mix flour, baking powder and salt. Fold flour mixture into butter mixture. Stir in chocolate chips. Spread in prepared pan.',\n",
       "  u'Bake in preheated oven 20 minutes, until set. Cool before cutting into squares.',\n",
       "  u''],\n",
       " [u'Slice strawberries and sprinkle them with sugar. Cut the bananas into slices and toss with orange juice. Combine pudding mix with milk and mix until smooth. Cut the cake into 1 inch cubes.',\n",
       "  u'Use half of the cake cubes to line the bottom of a large glass bowl. Layer half of the strawberries followed by half of the blueberries, and then half of the bananas. Spread half of the pudding over the fruit. Repeat layers in the same order.',\n",
       "  u'In a medium bowl, whip the cream to stiff peaks and spread over top of trifle. Garnish with maraschino cherries and slivered almonds.',\n",
       "  u''],\n",
       " [u'Preheat oven to 350 degrees F (175 degrees C). Grease and flour a 9x9 inch pan.',\n",
       "  u'In a large bowl, cream butter and sugar until light. Add eggs and beat well. Dissolve soda in the sour cream and add it to the butter mixture. Beat well. Add the mashed bananas and mix in. Add cake flour and mix well. Stir in vanilla extract.',\n",
       "  u'Pour batter into a 9x9 inch pan and bake at 350 degrees F (175 degrees C) for 45 minutes or until done.',\n",
       "  u''],\n",
       " [u'Mix graham cracker crumbs, sugar, melted butter or margarine, and ginger until well blended . Press mixture into a 9 inch pie plate. Cool in refrigerator.',\n",
       "  u'In a sauce pan, boil an unopened can of sweetened condensed milk for 3 hours. Monitor the water closely, to make sure there is always water in the pan. Remove can from heat and let cool for 10 to 15 minutes.',\n",
       "  u'Open can and pour toffee into pie crust. Allow to cool.',\n",
       "  u'Slice bananas over toffee.',\n",
       "  u'Whip 2 cups of cream and spoon it on top of bananas. Refrigerate before serving.',\n",
       "  u''],\n",
       " [u'Stir together flour, 1 1/3 cups oats, salt, and baking soda.',\n",
       "  u'In a large bowl, cream 1/2 cup butter or margarine with 2/3 cup brown sugar. Beat in the eggs, then the bananas and vanilla. Beat the flour mixture into the banana mixture. Turn the batter into a greased and floured 8 inch square pan.',\n",
       "  u'Mix 3/4 cup oats, 1/3 cup brown sugar, melted butter or margarine, walnuts, and cinnamon together until crumbly. Sprinkle evenly over the top of the batter.',\n",
       "  u'Bake in preheated oven at 350 degrees F (175 degrees C) for 40 to 45 minutes, or until it tests done. Transfer to a rack to cool.',\n",
       "  u''],\n",
       " [u'Preheat oven to 350 degrees F (175 degrees C). Grease cookie sheets.',\n",
       "  u'In a large bowl, cream together shortening and brown sugar. Beat in egg and mashed banana, then stir in vanilla. Combine flour, baking soda, salt, cinnamon, and cloves; stir into the banana mixture. Mix in rolled oats and walnuts. Drop by rounded spoonfuls onto prepared cookie sheets. Leave room for spreading.',\n",
       "  u'Bake for 8 to 10 minutes in preheated oven. Allow cookies to cool on cookie sheets for 5 minutes before transferring to a wire rack to cool completely.',\n",
       "  u''],\n",
       " [u'In large bowl, combine sweetened condensed milk and water. Add pudding mix; beat until well blended. Chill 5 minutes.',\n",
       "  u'Fold in whipped cream. Spoon 1 cup pudding mixture into 2 1/2-quart glass serving bowl.',\n",
       "  u'Top with one-third each of the vanilla wafers, bananas and remaining pudding. Repeat layering twice, ending with pudding mixture. Chill thoroughly. Garnish as desired. Store leftovers covered in refrigerator.',\n",
       "  u''],\n",
       " [u'Preheat oven to 350 degrees F (175 degrees C). Lightly grease baking sheets.',\n",
       "  u'In a medium bowl, cream together shortening and white sugar until smooth. Beat in eggs, vanilla extract, and banana. Combine flour, baking soda, and salt; blend thoroughly into the shortening mixture to make a sticky batter. Drop by rounded tablespoons onto the prepared baking sheets.',\n",
       "  u'Bake 10 to 15 minutes in the preheated oven, or until lightly browned.',\n",
       "  u\"In a medium bowl, blend butter, confectioners' sugar, milk and vanilla extract. Adjust amount of milk as necessary to attain a drizzling consistency. Drizzle over warm cookies.\",\n",
       "  u''],\n",
       " [u'In medium saucepan combine sugar, flour, and salt. Add eggs and stir well. Stir in milk, and cook over low heat, stirring constantly. When mixture begins to thicken, remove from heat and continue to stir, cooling slightly. Stir in vanilla and butter until smooth.',\n",
       "  u'Layer pudding with bananas and vanilla wafers in a serving dish. Chill at least one hour in refrigerator before serving.',\n",
       "  u''],\n",
       " [u'Preheat oven to 350 degrees F (175 degrees C). Spray a 10 inch Bundt pan with non-stick cooking spray.',\n",
       "  u'In a large bowl, cream together the butter and sugar until light and fluffy. Beat in the eggs one at a time. Beat in the sliced bananas, sour cream and baking soda. Beat in the flour. Pour batter into prepared pan.',\n",
       "  u'Bake in the preheated oven for 60 minutes, or until a toothpick inserted into the center of the cake comes out clean. Let cool in pan for 10 minutes, then turn out onto a wire rack and cool completely.',\n",
       "  u''],\n",
       " [u'Preheat oven to 350 degrees F (175 degrees C). Grease and flour a 5x9-inch loaf pan.',\n",
       "  u'Mash bananas and add flour, sugar, butter, vanilla, baking powder, baking soda and egg. Mix well. Pour into loaf pan.',\n",
       "  u'Bake in preheated oven until toothpick inserted into center of cake comes out clean, 50 to 60 minutes.',\n",
       "  u''],\n",
       " [u'Preheat oven to 350 degrees F (175 degrees C). Grease a 9x5 inch loaf pan.',\n",
       "  u'In a large mixing bowl, mix eggs, milk, sugar, and vanilla until smooth. Stir in bread, bananas, and chocolate chips, and let rest 5 minutes for bread to soak. Pour into prepared pan.',\n",
       "  u'Line a roasting pan with a damp kitchen towel. Place loaf pan on towel inside roasting pan, and place roasting pan on oven rack. Fill roasting pan with water to reach halfway up the sides of the loaf pan. Bake in preheated oven for 1 hour, or until a knife inserted in the center comes out clean.',\n",
       "  u''],\n",
       " [u'Preheat oven to 350 degrees F (175 degrees C).',\n",
       "  u'Line the bottom and sides of a 9-inch pie plate with a layer of alternating vanilla wafer crumbs and banana slices.',\n",
       "  u'To Make Pudding: In a medium saucepan, combine 1 1/2 cups sugar with flour. Mix well, then stir in half the milk. Beat egg yolks and whisk into sugar mixture. Add remaining milk and butter or margarine.',\n",
       "  u'Place mixture over low heat and cook until thickened, stirring frequently. Remove from heat and stir in vanilla extract. Pour half of pudding over vanilla wafer and banana layer while still hot.',\n",
       "  u'Make another layer of alternating vanilla wafers and banana slices on top of pudding layer. Pour remaining pudding over second wafer and banana layer.',\n",
       "  u'To Make Meringue: In a large glass or metal bowl, beat egg whites until foamy. Gradually add 1/4 cup sugar, continuing to beat until whites are stiff. Spread meringue into pie pan, making sure to completely cover pudding layer.',\n",
       "  u'Bake in preheated oven for 15 minutes, just until meringue is browned. Chill before serving.',\n",
       "  u''],\n",
       " [u'Preheat an oven to 350 degrees F (175 degrees C). Grease a 9x13 inch baking pan.',\n",
       "  u'Beat the butter and sugar with an electric mixer in a large bowl until light and fluffy. Add the egg and the vanilla and beat until well combined. Stir in the mashed banana, set aside.',\n",
       "  u'Stir together the flour, baking soda, baking powder, and salt in a separate large bowl, and make a well in the center. Pour the banana mixture into the well and stir just until combined.',\n",
       "  u'Remove half of the batter from the bowl. Mix the cocoa powder into the batter remaining in the bowl and stir well. Spread the cocoa batter in the bottom of the prepared pan. Spoon the remaining batter on top and use a knife to swirl the batter into a marbled design.',\n",
       "  u'Bake in the preheated oven until the edges are golden, about 25 minutes. Allow to cool before cutting into 24 pieces.',\n",
       "  u''],\n",
       " [u'In a medium bowl, stir together condensed milk and water. Beat in pudding mix until smooth. Chill in refrigerator 5 minutes.',\n",
       "  u'In a separate bowl, whip cream until stiff peaks form. Fold whipped cream into chilled pudding mixture.',\n",
       "  u'Dip sliced bananas in lemon juice. Shake off excess.',\n",
       "  u'In a 2 1/2 quart serving bowl, spoon 1 cup pudding mixture. Top with one-third each of the wafers, bananas and remaining pudding. Repeat layers twice. Chill until serving.',\n",
       "  u''],\n",
       " [u'Preheat oven to 350 degrees F (175 degrees C). Grease and flour a 9x13 inch pan. Put 1 tablespoon lemon juice in a measuring cup with 2/3 cup milk. Set aside. Mash bananas with a fork, adding the remaining 1 tablespoon lemon juice to them as you mash. Set aside.',\n",
       "  u'In a large bowl, combine cake mix and baking soda. Stir to combine. Add bananas, softened butter, milk mixture, eggs and vanilla. Beat at low speed until moistened (about 30 seconds). Beat at medium speed for 4 minutes. Pour into prepared pan.',\n",
       "  u'Bake in the preheated oven for 30 to 35 minutes, or until center of cake springs back when lightly tapped. A toothpick stuck in the center may leave a slight crumb. Allow to cool on a wire rack.',\n",
       "  u''],\n",
       " [u'Preheat oven to 275 degrees F (135 degrees C). Make the crust: In a food processor, blend together the graham cracker crumbs, almonds and sugar until the almonds are ground fine. Pour in the melted butter and caramel while processing, until mixture is combined. Press the mixture onto the bottom, and half way up the side of a 10 inch springform pan.',\n",
       "  u'Make the filling: In a metal bowl over a pan of barely simmering water, melt the white chocolate, stirring until smooth. Remove from heat and set aside. In a large bowl, beat the cream cheese and 3/4 cup sugar until smooth. Beat in the eggs and the egg yolks, one at a time. Beat in the flour and the vanilla and blend in the melted white chocolate slowly, beating until the filling is well combined. Pour filling into crust.',\n",
       "  u'Bake in the middle of preheated oven for 1 hour. Then turn off the heat, and crack the oven door an inch, letting the cheesecake cool in the oven to room temperature. Cover loosely and refrigerate overnight before removing from pan.',\n",
       "  u'Make the topping: In a saucepan, combine 1/2 cup sugar and cornstarch. Stir in water and blueberries. Bring to a boil, then simmer for 10 minutes, stirring occasionally. Press through a fine sieve. Stir in lemon juice, allow to cool, and store in a glass jar.',\n",
       "  u''],\n",
       " [u'Preheat oven to 350 degrees F (175 degrees C). Grease a 9 inch square baking dish.',\n",
       "  u'To make the crust: Cream shortening, sugar, one egg, milk and almond extract in a large bowl. Mix in flour and baking powder, stirring constantly. Spread crust evenly in baking pan. Top with blueberries.',\n",
       "  u'To make the topping: In a medium bowl, beat two eggs, and cream cheese until smooth. Stir in powdered sugar and almond extract. Spread over blueberries.',\n",
       "  u'Bake 55 to 60 minutes, or until firm to the touch. Cool in pan before cutting.',\n",
       "  u''],\n",
       " [u'Preheat the oven to 350 degrees F (175 degrees C). Grease and flour a 10 inch Bundt pan.',\n",
       "  u'In a large bowl, cream together the butter and sugar until light and fluffy. Beat in the eggs one at a time, then stir in the lemon extract. Combine the flour, baking powder, and lemon zest; stir into the batter alternating with the milk. I like to use a spatula and stir by hand, mixing just until blended so the batter is not over mixed. Be sure to scrape the bottom and sides of the bowl often. Fold in the blueberries. Spoon the batter into the prepared pan.',\n",
       "  u'Bake for 1 hour in the preheated oven, or until a toothpick inserted into the center comes out clean. Let cool in the pan for at least 10 minutes, then invert onto a wire rack to cool completely.',\n",
       "  u''],\n",
       " [u'Preheat the oven to 350 degrees F (175 degrees C). Grease a 9 inch square baking dish.',\n",
       "  u'In a large bowl, stir together the flour, 3/4 cup of sugar, and baking powder. Add the milk, shortening, 1 egg, and lemon extract, and use an electric mixer to mix on low speed for 1 minute, then on medium speed for 1 minute. Pour the batter into the prepared pan, and spread evenly. Sprinkle blueberries over the batter.',\n",
       "  u'In a medium bowl, stir together 2 beaten eggs, ricotta cheese, 1/3 cup of sugar, and vanilla extract. Spoon this mixture over the blueberries, and spread evenly.',\n",
       "  u'Bake for 55 to 60 minutes in the preheated oven, until a knife inserted near the center comes out clean. Cool completely before cutting into squares and serving.',\n",
       "  u''],\n",
       " [u'Preheat the oven to 375 degrees F (190 degrees C). Grease a 9 inch springform pan.',\n",
       "  u'In a medium bowl, stir together the flour, 1/2 cup of sugar, and baking powder. Mix in the butter by pinching between your fingers or using a pastry blender until the mixture resembles coarse crumbs. Stir in the egg and 1 teaspoon of vanilla. Pat lightly into the bottom of the prepared pan. Pour blueberries over the top.',\n",
       "  u'In another medium bowl, whisk together the sour cream, 1/2 cup of sugar, egg yolks and 1 teaspoon of vanilla until smooth. Pour over the blueberries.',\n",
       "  u'Bake for 60 to 70 minutes in the preheated oven, until the top is lightly browned. Cool, then run a knife around the edge of the pan. Remove the outer ring of the pan, and cut into wedges to serve.',\n",
       "  u''],\n",
       " [u'Preheat oven to 425 degrees F (220 degrees C). Generously butter a 2 1/2-quart baking dish.',\n",
       "  u'Pour blueberries into prepared baking dish.',\n",
       "  u'Blend milk, sugar, flour, eggs, vanilla extract, and salt in a blender until batter is smooth. Pour batter over blueberries and gently shake to remove any air bubbles.',\n",
       "  u'Bake in the preheated oven until puffed and center is set, 25 to 30 minutes. Cool until clafoutis deflates and is just warm.',\n",
       "  u''],\n",
       " [u'Preheat the oven to 425 degrees F (220 degrees C).',\n",
       "  u'Press one of the pie crusts into a 9 inch pie plate. In a large bowl, stir together 1/2 cup of sugar, cornstarch and cinnamon. Stir in the cherry pie filling and blueberries. Spoon into the pie crust. Top with the second crust, and press the edges to seal. Flute edges, or press with the tines of a fork. In a cup, whisk together the egg white and water with a fork. Brush over the top of the pie, then sprinkle with 2 teaspoons of sugar.',\n",
       "  u'Bake for 45 to 55 minutes in the preheated oven, or until crust is golden brown. Cover the edges of the crust with aluminum foil if they appear to be getting too dark. Cool for at least 2 hours to allow the filling to set before serving.',\n",
       "  u''],\n",
       " [u'Preheat oven to 375 degrees F (190 degrees C). Grease and flour a 9 inch pan. Sift together the flour, baking powder and salt. Set aside.',\n",
       "  u'In a large bowl, whisk together the oil, sugar and egg. Stir in the flour mixture alternately with the milk, mixing just until incorporated. Fold in the blueberries. Pour batter into prepared pan. Cover with streusel topping.',\n",
       "  u'For the topping: In a bowl, combine 1/3 cup flour, cinnamon and 1/2 cup sugar. Cut in the butter until mixture resembles coarse crumbs.',\n",
       "  u'Bake in the preheated oven for 45 minutes, or until a toothpick inserted into the center of the cake comes out clean. Allow to cool.',\n",
       "  u''],\n",
       " [u'In a large mixing bowl, cream the shortening, sugar, egg, milk, almond extract and lemon zest. Mix well after the addition of each ingredient. Combine the flour, baking powder and salt; blend into the sugar mixture. Fold in the blueberries. Cover and chill for 4 hours.',\n",
       "  u'Preheat oven to 375 degrees F. Drop dough by teaspoonfuls onto ungreased cookie sheets, about 1 1/2 inches apart.',\n",
       "  u'Bake 12 to 15 minutes in the preheated oven. Let the cookies cool on the baking sheets for a few minutes before transferring to wire racks to cool completely.',\n",
       "  u''],\n",
       " [u'Combine crumbs, 2 tablespoons sugar and butter. Pat mixture into the bottom of a 9 inch springform pan.',\n",
       "  u'Mash cream cheese until soft and creamy. Gradually beat in sour cream, 3/4 cup sugar, vanilla and flour. Beat in eggs one at a time.',\n",
       "  u'Pour mixture into crumb-lined pan. Bake in a preheated 325 degree F (165 degrees C) oven for 1 hour or until firm to the touch.',\n",
       "  u'Cool and then remove cake from pan by loosening edges with a knife. Place frozen blueberries on top of cake. Melt jelly and spoon over blueberries to glaze. Chill until ready to serve.',\n",
       "  u''],\n",
       " [u'Mix sugar, flour, and cinnamon in large bowl. Add fruit. Add lemon juice, and stir well.',\n",
       "  u'Pour into a 9 inch unbaked pie shell. Dot with the butter or margarine. Cover with top crust and flute edges. Cut small slits in the top.',\n",
       "  u'Bake at 375 degrees F (190 degrees C) for 1 hour. I put a baking sheet under mine to catch any liquid that might bubble over.',\n",
       "  u''],\n",
       " [u'In a saucepan, combine sugar, cornstarch and salt. Stir in water and 1 cup of blueberries. Cook and stir over medium heat, until thick, approximately 8 to 10 minutes.',\n",
       "  u'Add butter and let cool about 5 minutes. Stir in remaining blueberries.',\n",
       "  u'Pour into baked pie shell and cool in the refrigerator for 2 to 4 hours.',\n",
       "  u''],\n",
       " [u'Preheat oven to 375 degrees F (190 degrees C). Place butter cubes in the freezer for 15 minutes.',\n",
       "  u'Whisk together flour, sugar, salt, and baking powder in a large bowl. Sprinkle in Chinese five-spice powder.',\n",
       "  u'Cut in frozen butter using a pastry cutter until the butter pieces are about the size of peas. Mix in egg yolk and continue cutting in until thoroughly combined. Drizzle in ice water and stir to combine. The dough should just come together when pinched between your fingers.',\n",
       "  u'Pour about 3/4 of the crumb mixture into an ungreased 9x9-inch baking dish. Press the mixture down firmly using the back of a spoon. Spread blueberries in one layer and sprinkle with remaining crumbly dough.',\n",
       "  u'Bake in the preheated oven until the top is golden and sides are crisp and browned, 30 to 35 minutes. Cool completely before serving.',\n",
       "  u''],\n",
       " [u'Preheat oven to 325 degrees F. In bowl, combine blueberries, sweetened condensed milk and lemon peel.',\n",
       "  u'In large bowl, cut 3/4 cup butter into 1 1/2 cups biscuit mix until crumbly; stir in blueberry mixture. Spread in greased 9-inch square baking pan.',\n",
       "  u'In small bowl, combine remaining 1/2 cup biscuit mix and brown sugar; cut in remaining 2 tablespoons butter until crumbly. Add nuts. Sprinkle over cobbler.',\n",
       "  u'Bake 65 to 70 minutes. Serve warm with vanilla ice cream and Blueberry Sauce. Store leftovers covered in refrigerator.',\n",
       "  u'Blueberry Sauce: In saucepan, combine sugar, cornstarch, cinnamon, and nutmeg. Gradually add water. Cook and stir until thickened. Stir in blueberries; cook and stir until hot.',\n",
       "  u''],\n",
       " [u'Pour one pint of the blueberries into the baked pie shell.',\n",
       "  u'Combine flour, butter, lemon juice and sugar. Mix thoroughly. Add the remaining pint of blueberries and bring just to a boil over medium heat. Berries should begin to pop open.',\n",
       "  u'Pour cooked berries over fresh berries. Chill pie and serve with whipped cream.',\n",
       "  u''],\n",
       " [u'Preheat oven to 400 degrees F (200 degrees C). Grease a 9x13 inch baking pan.',\n",
       "  u'Start by making the crust. In a medium bowl, stir together the 2 cups flour, 2 tablespoons white sugar, lemon zest and salt. Cut in the 1/2 cup butter until the mixture resembles coarse crumbs. Beat egg and vanilla together; stir into the crumb mixture until a dough forms. Press into the bottom of the prepared pan.',\n",
       "  u'Bake for 12 to 15 minutes in the preheated oven, until golden. Remove from oven and set aside to cool slightly.',\n",
       "  u'Sprinkle blueberries over the crust. Combine the 1/4 cup sugar and nutmeg; sprinkle over the blueberries. Make the topping: In a medium bowl, cream together the 5 tablespoons butter and brown sugar until smooth. Mix in the flour, so that the mixture is crumbly like streusel. Sprinkle over the blueberry layer.',\n",
       "  u\"Bake for 20 to 25 minutes in the preheated oven, until browned. Cool and then dust with confectioners' sugar before cutting into bars.\",\n",
       "  u''],\n",
       " [u'Preheat oven to 350 degrees F (175 degrees C). Place butter in an 8-inch square baking dish.',\n",
       "  u'Melt butter in the preheating oven, about 5 minutes. Remove from oven.',\n",
       "  u'Mix flour, sugar, and milk in a bowl until combined; pour batter over melted butter. Scatter blueberries over batter.',\n",
       "  u'Bake in preheated oven until a toothpick inserted into the center comes out clean, about 1 hour.',\n",
       "  u''],\n",
       " [u'Preheat the oven to 350 degrees F (175 degrees C). Grease and flour a 9x13 inch baking pan.',\n",
       "  u'In a large bowl, stir together the melted butter, milk, eggs, vanilla and 1 1/2 cups sugar substitute. Combine 3 cups of flour and baking powder; stir into the wet ingredients until just blended. Fold in the blueberries. Spread evenly in the prepared pan.',\n",
       "  u'In a small bowl, stir together the brown sugar substitute, 3/4 cup of flour, and cinnamon. Stir in the softened butter with a fork until the mixture is crumbly. Sprinkle over the top of the cake.',\n",
       "  u'Bake for 35 to 40 minutes in the preheated oven, until a toothpick inserted into the center of the cake comes out clean. This cake is best served warm.',\n",
       "  u''],\n",
       " [],\n",
       " [u'Preheat the oven to 350 degrees F (175 degrees C). Grease and flour an 11x7 inch baking dish.',\n",
       "  u'In a large bowl, mix together the oil, 1 cup sugar and molasses until well blended. Beat in the egg. In a separate bowl, stir together the flour, cinnamon, nutmeg, ginger, baking soda and salt. Remove 2 tablespoons of the flour mixture, and toss with blueberries to coat. Stir the remaining dry mixture into the wet ingredients alternately with the buttermilk, mixing after each addition. Carefully stir in blueberries. Pour the batter into the prepared pan, and sprinkle remaining white sugar over the top.',\n",
       "  u'Bake for 35 to 40 minutes in the preheated oven, until a toothpick inserted into the center comes out clean.',\n",
       "  u''],\n",
       " [u'Preheat oven to 350 degrees F (175 degrees C). Butter and flour a springform pan.',\n",
       "  u'Sift 2 cups flour, baking powder, and salt into a bowl.',\n",
       "  u'Beat 1/4 cup butter, 3/4 cup sugar, and egg with an electric mixer in a large bowl until smooth. Gradually add milk and beat until fluffy; stir in flour mixture, making a stiff batter. Gently fold in blueberries and spread batter into prepared springform pan.',\n",
       "  u'Mix 1/2 cup sugar, 1/3 cup flour, cinnamon, and 1/4 cup butter in a bowl until blended and crumbly in texture. Sprinkle on top of batter, then lightly press topping into batter using fingertips.',\n",
       "  u'Bake in preheated oven until golden and a toothpick inserted in the middle comes out with moist crumbs, about 40 minutes.',\n",
       "  u'']]"
      ]
     },
     "execution_count": 9,
     "metadata": {},
     "output_type": "execute_result"
    }
   ],
   "source": [
    "import unicodedata\n",
    "import time\n",
    "from recipe_scrapers import scrap_me\n",
    "# scrap_me = scrap_me(\"http://allrecipes.com//recipe/232922/apple-cinnamon-white-cake/\")\n",
    "# print(scrap_me.instructions())\n",
    "new_data=[]\n",
    "for link in final_links_recipe:\n",
    "#            print('\"' + link + '\"')\n",
    "#          print(st)\n",
    "        scrap_me1 = scrap_me(link)\n",
    "        recipe = scrap_me1.instructions()\n",
    "        new_data.append(recipe)\n",
    "\n",
    "new_data"
   ]
  },
  {
   "cell_type": "markdown",
   "metadata": {},
   "source": [
    "## Define the cleaning function"
   ]
  },
  {
   "cell_type": "code",
   "execution_count": 10,
   "metadata": {
    "collapsed": true
   },
   "outputs": [],
   "source": [
    "# Import BeautifulSoup into your workspace\n",
    "import re\n",
    "import nltk\n",
    "from bs4 import BeautifulSoup \n",
    "from nltk.corpus import stopwords # Import the stop word list\n",
    "def review_to_words( raw_review ): \n",
    "    soup_article = BeautifulSoup(raw_review, \"html.parser\") \n",
    " \n",
    "    # Use regular expressions to do a find-and-replace\n",
    "    cleanedSoup_article = re.sub(\"[^a-zA-Z]\",   # The pattern to search for: in this case- all characters but english letters\n",
    "                          \" \",                   # The pattern to replace it with\n",
    "                          soup_article.get_text() )  # The text to search\n",
    "   \n",
    "    lower_case = cleanedSoup_article.lower() # Convert to lower case \n",
    "    words = nltk.word_tokenize(lower_case) # Split into words\n",
    "    words = [w for w in words if not w in stopwords.words(\"english\")]\n",
    "    porter = nltk.PorterStemmer()\n",
    "    lancaster = nltk.LancasterStemmer()\n",
    "    [porter.stem(w) for w in words]\n",
    "    return ( \" \".join( words ))"
   ]
  },
  {
   "cell_type": "code",
   "execution_count": 13,
   "metadata": {
    "collapsed": false
   },
   "outputs": [],
   "source": [
    "import pandas as pd\n",
    "columns = ['text' , 'type']\n",
    "#  df.append(df2, ignore_index=True)\n",
    "data_pair = [()]\n",
    "for value in new_data:\n",
    "    data_pair.append(('recipe',( \" \".join( value ))))\n",
    "df_recipe = pd.DataFrame(data=data_pair, columns=['text','type'])    \n",
    "# df_recipe\n"
   ]
  },
  {
   "cell_type": "code",
   "execution_count": 14,
   "metadata": {
    "collapsed": false
   },
   "outputs": [],
   "source": [
    "df_recipe = df_recipe.ix[1:58]\n"
   ]
  },
  {
   "cell_type": "markdown",
   "metadata": {},
   "source": [
    "## Add The data to our previous data"
   ]
  },
  {
   "cell_type": "code",
   "execution_count": 15,
   "metadata": {
    "collapsed": false
   },
   "outputs": [
    {
     "data": {
      "text/html": [
       "<div>\n",
       "<table border=\"1\" class=\"dataframe\">\n",
       "  <thead>\n",
       "    <tr style=\"text-align: right;\">\n",
       "      <th></th>\n",
       "      <th>text</th>\n",
       "      <th>type</th>\n",
       "    </tr>\n",
       "  </thead>\n",
       "  <tbody>\n",
       "    <tr>\n",
       "      <th>0</th>\n",
       "      <td>wiki</td>\n",
       "      <td>love song flo twenty second single rhythm zone...</td>\n",
       "    </tr>\n",
       "    <tr>\n",
       "      <th>1</th>\n",
       "      <td>wiki</td>\n",
       "      <td>season nd season competitive football rangers</td>\n",
       "    </tr>\n",
       "    <tr>\n",
       "      <th>2</th>\n",
       "      <td>wiki</td>\n",
       "      <td>afromarengo plana jumping spider species genus...</td>\n",
       "    </tr>\n",
       "    <tr>\n",
       "      <th>3</th>\n",
       "      <td>wiki</td>\n",
       "      <td>grisana genus moths noctuidae family</td>\n",
       "    </tr>\n",
       "    <tr>\n",
       "      <th>4</th>\n",
       "      <td>wiki</td>\n",
       "      <td>kshatriya kulavatauns title nobility conferred...</td>\n",
       "    </tr>\n",
       "    <tr>\n",
       "      <th>5</th>\n",
       "      <td>wiki</td>\n",
       "      <td>robert sands estate historic home located rhin...</td>\n",
       "    </tr>\n",
       "    <tr>\n",
       "      <th>6</th>\n",
       "      <td>wiki</td>\n",
       "      <td>cowboy ninja viking image comics comic book cr...</td>\n",
       "    </tr>\n",
       "    <tr>\n",
       "      <th>7</th>\n",
       "      <td>wiki</td>\n",
       "      <td>das kriminalmuseum german television series ra...</td>\n",
       "    </tr>\n",
       "    <tr>\n",
       "      <th>8</th>\n",
       "      <td>wiki</td>\n",
       "      <td>universal music latin entertainment division u...</td>\n",
       "    </tr>\n",
       "    <tr>\n",
       "      <th>9</th>\n",
       "      <td>wiki</td>\n",
       "      <td>molineux stadium mlnju mol new championship fo...</td>\n",
       "    </tr>\n",
       "    <tr>\n",
       "      <th>10</th>\n",
       "      <td>wiki</td>\n",
       "      <td>americo sebastiano costantino born october ita...</td>\n",
       "    </tr>\n",
       "    <tr>\n",
       "      <th>11</th>\n",
       "      <td>wiki</td>\n",
       "      <td>lance edward lem massey september june native ...</td>\n",
       "    </tr>\n",
       "    <tr>\n",
       "      <th>12</th>\n",
       "      <td>wiki</td>\n",
       "      <td>neaspilota genus tephritid fruit flies family ...</td>\n",
       "    </tr>\n",
       "    <tr>\n",
       "      <th>13</th>\n",
       "      <td>wiki</td>\n",
       "      <td>faulknor family english family northamptonshir...</td>\n",
       "    </tr>\n",
       "    <tr>\n",
       "      <th>14</th>\n",
       "      <td>wiki</td>\n",
       "      <td>stefan dimle born june koping sweden bassplaye...</td>\n",
       "    </tr>\n",
       "    <tr>\n",
       "      <th>15</th>\n",
       "      <td>wiki</td>\n",
       "      <td>holzdorf village municipality jessen elster di...</td>\n",
       "    </tr>\n",
       "    <tr>\n",
       "      <th>16</th>\n",
       "      <td>wiki</td>\n",
       "      <td>tredinnick cornish surname derives one places ...</td>\n",
       "    </tr>\n",
       "    <tr>\n",
       "      <th>17</th>\n",
       "      <td>wiki</td>\n",
       "      <td>scottish cup th season scotland prestigious fo...</td>\n",
       "    </tr>\n",
       "    <tr>\n",
       "      <th>18</th>\n",
       "      <td>wiki</td>\n",
       "      <td>gunther schmidt rudersdorf near berlin german ...</td>\n",
       "    </tr>\n",
       "    <tr>\n",
       "      <th>19</th>\n",
       "      <td>wiki</td>\n",
       "      <td>robert sargent electrical engineer defense dep...</td>\n",
       "    </tr>\n",
       "    <tr>\n",
       "      <th>20</th>\n",
       "      <td>wiki</td>\n",
       "      <td>broken rites formally broken rites australia c...</td>\n",
       "    </tr>\n",
       "    <tr>\n",
       "      <th>21</th>\n",
       "      <td>wiki</td>\n",
       "      <td>deep six song american rock band marilyn manso...</td>\n",
       "    </tr>\n",
       "    <tr>\n",
       "      <th>22</th>\n",
       "      <td>wiki</td>\n",
       "      <td>usa also known gps iir gps svn american naviga...</td>\n",
       "    </tr>\n",
       "    <tr>\n",
       "      <th>23</th>\n",
       "      <td>wiki</td>\n",
       "      <td>luan county station chinese chinese railway st...</td>\n",
       "    </tr>\n",
       "    <tr>\n",
       "      <th>24</th>\n",
       "      <td>wiki</td>\n",
       "      <td>stanek stank village administrative district g...</td>\n",
       "    </tr>\n",
       "    <tr>\n",
       "      <th>25</th>\n",
       "      <td>wiki</td>\n",
       "      <td>carlo pezzati october italian politician mayor...</td>\n",
       "    </tr>\n",
       "    <tr>\n",
       "      <th>26</th>\n",
       "      <td>wiki</td>\n",
       "      <td>john william moore june december u representat...</td>\n",
       "    </tr>\n",
       "    <tr>\n",
       "      <th>27</th>\n",
       "      <td>wiki</td>\n",
       "      <td>th division spanish division division spanish ...</td>\n",
       "    </tr>\n",
       "    <tr>\n",
       "      <th>28</th>\n",
       "      <td>wiki</td>\n",
       "      <td>pelham range small mountain range southern van...</td>\n",
       "    </tr>\n",
       "    <tr>\n",
       "      <th>29</th>\n",
       "      <td>wiki</td>\n",
       "      <td>katzenthal commune haut rhin department grand ...</td>\n",
       "    </tr>\n",
       "    <tr>\n",
       "      <th>...</th>\n",
       "      <td>...</td>\n",
       "      <td>...</td>\n",
       "    </tr>\n",
       "    <tr>\n",
       "      <th>128</th>\n",
       "      <td>recipe</td>\n",
       "      <td>Stir together flour, 1 1/3 cups oats, salt, an...</td>\n",
       "    </tr>\n",
       "    <tr>\n",
       "      <th>129</th>\n",
       "      <td>recipe</td>\n",
       "      <td>Preheat oven to 350 degrees F (175 degrees C)....</td>\n",
       "    </tr>\n",
       "    <tr>\n",
       "      <th>130</th>\n",
       "      <td>recipe</td>\n",
       "      <td>In large bowl, combine sweetened condensed mil...</td>\n",
       "    </tr>\n",
       "    <tr>\n",
       "      <th>131</th>\n",
       "      <td>recipe</td>\n",
       "      <td>Preheat oven to 350 degrees F (175 degrees C)....</td>\n",
       "    </tr>\n",
       "    <tr>\n",
       "      <th>132</th>\n",
       "      <td>recipe</td>\n",
       "      <td>In medium saucepan combine sugar, flour, and s...</td>\n",
       "    </tr>\n",
       "    <tr>\n",
       "      <th>133</th>\n",
       "      <td>recipe</td>\n",
       "      <td>Preheat oven to 350 degrees F (175 degrees C)....</td>\n",
       "    </tr>\n",
       "    <tr>\n",
       "      <th>134</th>\n",
       "      <td>recipe</td>\n",
       "      <td>Preheat oven to 350 degrees F (175 degrees C)....</td>\n",
       "    </tr>\n",
       "    <tr>\n",
       "      <th>135</th>\n",
       "      <td>recipe</td>\n",
       "      <td>Preheat oven to 350 degrees F (175 degrees C)....</td>\n",
       "    </tr>\n",
       "    <tr>\n",
       "      <th>136</th>\n",
       "      <td>recipe</td>\n",
       "      <td>Preheat oven to 350 degrees F (175 degrees C)....</td>\n",
       "    </tr>\n",
       "    <tr>\n",
       "      <th>137</th>\n",
       "      <td>recipe</td>\n",
       "      <td>Preheat an oven to 350 degrees F (175 degrees ...</td>\n",
       "    </tr>\n",
       "    <tr>\n",
       "      <th>138</th>\n",
       "      <td>recipe</td>\n",
       "      <td>In a medium bowl, stir together condensed milk...</td>\n",
       "    </tr>\n",
       "    <tr>\n",
       "      <th>139</th>\n",
       "      <td>recipe</td>\n",
       "      <td>Preheat oven to 350 degrees F (175 degrees C)....</td>\n",
       "    </tr>\n",
       "    <tr>\n",
       "      <th>140</th>\n",
       "      <td>recipe</td>\n",
       "      <td>Preheat oven to 275 degrees F (135 degrees C)....</td>\n",
       "    </tr>\n",
       "    <tr>\n",
       "      <th>141</th>\n",
       "      <td>recipe</td>\n",
       "      <td>Preheat oven to 350 degrees F (175 degrees C)....</td>\n",
       "    </tr>\n",
       "    <tr>\n",
       "      <th>142</th>\n",
       "      <td>recipe</td>\n",
       "      <td>Preheat the oven to 350 degrees F (175 degrees...</td>\n",
       "    </tr>\n",
       "    <tr>\n",
       "      <th>143</th>\n",
       "      <td>recipe</td>\n",
       "      <td>Preheat the oven to 350 degrees F (175 degrees...</td>\n",
       "    </tr>\n",
       "    <tr>\n",
       "      <th>144</th>\n",
       "      <td>recipe</td>\n",
       "      <td>Preheat the oven to 375 degrees F (190 degrees...</td>\n",
       "    </tr>\n",
       "    <tr>\n",
       "      <th>145</th>\n",
       "      <td>recipe</td>\n",
       "      <td>Preheat oven to 425 degrees F (220 degrees C)....</td>\n",
       "    </tr>\n",
       "    <tr>\n",
       "      <th>146</th>\n",
       "      <td>recipe</td>\n",
       "      <td>Preheat the oven to 425 degrees F (220 degrees...</td>\n",
       "    </tr>\n",
       "    <tr>\n",
       "      <th>147</th>\n",
       "      <td>recipe</td>\n",
       "      <td>Preheat oven to 375 degrees F (190 degrees C)....</td>\n",
       "    </tr>\n",
       "    <tr>\n",
       "      <th>148</th>\n",
       "      <td>recipe</td>\n",
       "      <td>In a large mixing bowl, cream the shortening, ...</td>\n",
       "    </tr>\n",
       "    <tr>\n",
       "      <th>149</th>\n",
       "      <td>recipe</td>\n",
       "      <td>Combine crumbs, 2 tablespoons sugar and butter...</td>\n",
       "    </tr>\n",
       "    <tr>\n",
       "      <th>150</th>\n",
       "      <td>recipe</td>\n",
       "      <td>Mix sugar, flour, and cinnamon in large bowl. ...</td>\n",
       "    </tr>\n",
       "    <tr>\n",
       "      <th>151</th>\n",
       "      <td>recipe</td>\n",
       "      <td>In a saucepan, combine sugar, cornstarch and s...</td>\n",
       "    </tr>\n",
       "    <tr>\n",
       "      <th>152</th>\n",
       "      <td>recipe</td>\n",
       "      <td>Preheat oven to 375 degrees F (190 degrees C)....</td>\n",
       "    </tr>\n",
       "    <tr>\n",
       "      <th>153</th>\n",
       "      <td>recipe</td>\n",
       "      <td>Preheat oven to 325 degrees F. In bowl, combin...</td>\n",
       "    </tr>\n",
       "    <tr>\n",
       "      <th>154</th>\n",
       "      <td>recipe</td>\n",
       "      <td>Pour one pint of the blueberries into the bake...</td>\n",
       "    </tr>\n",
       "    <tr>\n",
       "      <th>155</th>\n",
       "      <td>recipe</td>\n",
       "      <td>Preheat oven to 400 degrees F (200 degrees C)....</td>\n",
       "    </tr>\n",
       "    <tr>\n",
       "      <th>156</th>\n",
       "      <td>recipe</td>\n",
       "      <td>Preheat oven to 350 degrees F (175 degrees C)....</td>\n",
       "    </tr>\n",
       "    <tr>\n",
       "      <th>157</th>\n",
       "      <td>recipe</td>\n",
       "      <td>Preheat the oven to 350 degrees F (175 degrees...</td>\n",
       "    </tr>\n",
       "  </tbody>\n",
       "</table>\n",
       "<p>158 rows × 2 columns</p>\n",
       "</div>"
      ],
      "text/plain": [
       "       text                                               type\n",
       "0      wiki  love song flo twenty second single rhythm zone...\n",
       "1      wiki      season nd season competitive football rangers\n",
       "2      wiki  afromarengo plana jumping spider species genus...\n",
       "3      wiki               grisana genus moths noctuidae family\n",
       "4      wiki  kshatriya kulavatauns title nobility conferred...\n",
       "5      wiki  robert sands estate historic home located rhin...\n",
       "6      wiki  cowboy ninja viking image comics comic book cr...\n",
       "7      wiki  das kriminalmuseum german television series ra...\n",
       "8      wiki  universal music latin entertainment division u...\n",
       "9      wiki  molineux stadium mlnju mol new championship fo...\n",
       "10     wiki  americo sebastiano costantino born october ita...\n",
       "11     wiki  lance edward lem massey september june native ...\n",
       "12     wiki  neaspilota genus tephritid fruit flies family ...\n",
       "13     wiki  faulknor family english family northamptonshir...\n",
       "14     wiki  stefan dimle born june koping sweden bassplaye...\n",
       "15     wiki  holzdorf village municipality jessen elster di...\n",
       "16     wiki  tredinnick cornish surname derives one places ...\n",
       "17     wiki  scottish cup th season scotland prestigious fo...\n",
       "18     wiki  gunther schmidt rudersdorf near berlin german ...\n",
       "19     wiki  robert sargent electrical engineer defense dep...\n",
       "20     wiki  broken rites formally broken rites australia c...\n",
       "21     wiki  deep six song american rock band marilyn manso...\n",
       "22     wiki  usa also known gps iir gps svn american naviga...\n",
       "23     wiki  luan county station chinese chinese railway st...\n",
       "24     wiki  stanek stank village administrative district g...\n",
       "25     wiki  carlo pezzati october italian politician mayor...\n",
       "26     wiki  john william moore june december u representat...\n",
       "27     wiki  th division spanish division division spanish ...\n",
       "28     wiki  pelham range small mountain range southern van...\n",
       "29     wiki  katzenthal commune haut rhin department grand ...\n",
       "..      ...                                                ...\n",
       "128  recipe  Stir together flour, 1 1/3 cups oats, salt, an...\n",
       "129  recipe  Preheat oven to 350 degrees F (175 degrees C)....\n",
       "130  recipe  In large bowl, combine sweetened condensed mil...\n",
       "131  recipe  Preheat oven to 350 degrees F (175 degrees C)....\n",
       "132  recipe  In medium saucepan combine sugar, flour, and s...\n",
       "133  recipe  Preheat oven to 350 degrees F (175 degrees C)....\n",
       "134  recipe  Preheat oven to 350 degrees F (175 degrees C)....\n",
       "135  recipe  Preheat oven to 350 degrees F (175 degrees C)....\n",
       "136  recipe  Preheat oven to 350 degrees F (175 degrees C)....\n",
       "137  recipe  Preheat an oven to 350 degrees F (175 degrees ...\n",
       "138  recipe  In a medium bowl, stir together condensed milk...\n",
       "139  recipe  Preheat oven to 350 degrees F (175 degrees C)....\n",
       "140  recipe  Preheat oven to 275 degrees F (135 degrees C)....\n",
       "141  recipe  Preheat oven to 350 degrees F (175 degrees C)....\n",
       "142  recipe  Preheat the oven to 350 degrees F (175 degrees...\n",
       "143  recipe  Preheat the oven to 350 degrees F (175 degrees...\n",
       "144  recipe  Preheat the oven to 375 degrees F (190 degrees...\n",
       "145  recipe  Preheat oven to 425 degrees F (220 degrees C)....\n",
       "146  recipe  Preheat the oven to 425 degrees F (220 degrees...\n",
       "147  recipe  Preheat oven to 375 degrees F (190 degrees C)....\n",
       "148  recipe  In a large mixing bowl, cream the shortening, ...\n",
       "149  recipe  Combine crumbs, 2 tablespoons sugar and butter...\n",
       "150  recipe  Mix sugar, flour, and cinnamon in large bowl. ...\n",
       "151  recipe  In a saucepan, combine sugar, cornstarch and s...\n",
       "152  recipe  Preheat oven to 375 degrees F (190 degrees C)....\n",
       "153  recipe  Preheat oven to 325 degrees F. In bowl, combin...\n",
       "154  recipe  Pour one pint of the blueberries into the bake...\n",
       "155  recipe  Preheat oven to 400 degrees F (200 degrees C)....\n",
       "156  recipe  Preheat oven to 350 degrees F (175 degrees C)....\n",
       "157  recipe  Preheat the oven to 350 degrees F (175 degrees...\n",
       "\n",
       "[158 rows x 2 columns]"
      ]
     },
     "execution_count": 15,
     "metadata": {},
     "output_type": "execute_result"
    }
   ],
   "source": [
    "import pickle\n",
    "import unicodedata\n",
    "df = pd.read_csv('data.csv',header=0, \n",
    "                    delimiter=\",\")\n",
    "df = df.ix[1:]\n",
    "df = df.append(df_recipe,ignore_index=True)\n",
    "df\n",
    "# df\n",
    "# pd.DataFrame([[1, 2], [3, 4]], columns=list('AB'))\n",
    "# df2 = pd.DataFrame([[5, 6], [7, 8]], columns=list('AB'))\n",
    "# df.append(df2)"
   ]
  },
  {
   "cell_type": "markdown",
   "metadata": {},
   "source": [
    "## Add the new data to the old file"
   ]
  },
  {
   "cell_type": "code",
   "execution_count": 16,
   "metadata": {
    "collapsed": true
   },
   "outputs": [],
   "source": [
    "# df = pd.DataFrame(data=df, columns=['text','type'])\n",
    "# df.to_csv(\"data_final.csv\",index = False)"
   ]
  },
  {
   "cell_type": "markdown",
   "metadata": {},
   "source": [
    "## Cleaning the data"
   ]
  },
  {
   "cell_type": "code",
   "execution_count": 17,
   "metadata": {
    "collapsed": false
   },
   "outputs": [
    {
     "name": "stdout",
     "output_type": "stream",
     "text": [
      "preheat oven degrees f degrees c place butter inch square baking dish melt butter preheating oven minutes remove oven mix flour sugar milk bowl combined pour batter melted butter scatter blueberries batter bake preheated oven toothpick inserted center comes clean hour\n"
     ]
    }
   ],
   "source": [
    "# df.to_csv(\"data2.csv\",index = False)\n",
    "clean_review = review_to_words( df[\"type\"][156] )\n",
    "print(clean_review)"
   ]
  },
  {
   "cell_type": "code",
   "execution_count": 19,
   "metadata": {
    "collapsed": false
   },
   "outputs": [],
   "source": [
    "clean_train_reviews = []\n",
    "counter = 0\n",
    "for d in df[\"type\"]:\n",
    "    counter = counter + 1\n",
    "    clean_review = review_to_words( d )\n",
    "    clean_train_reviews.append(clean_review)\n",
    "#     d = clean_review"
   ]
  },
  {
   "cell_type": "code",
   "execution_count": 20,
   "metadata": {
    "collapsed": false
   },
   "outputs": [
    {
     "data": {
      "text/plain": [
       "158"
      ]
     },
     "execution_count": 20,
     "metadata": {},
     "output_type": "execute_result"
    }
   ],
   "source": [
    "len(clean_train_reviews)"
   ]
  },
  {
   "cell_type": "markdown",
   "metadata": {},
   "source": [
    "## Loading Data"
   ]
  },
  {
   "cell_type": "markdown",
   "metadata": {},
   "source": [
    "## Prepare Vocabulary - BOG "
   ]
  },
  {
   "cell_type": "markdown",
   "metadata": {},
   "source": [
    "## Try to find the 15 most important words"
   ]
  },
  {
   "cell_type": "code",
   "execution_count": 21,
   "metadata": {
    "collapsed": false
   },
   "outputs": [
    {
     "name": "stdout",
     "output_type": "stream",
     "text": [
      "Creating the bag of words...\n",
      "\n"
     ]
    }
   ],
   "source": [
    "print(\"Creating the bag of words...\\n\")\n",
    "from sklearn.feature_extraction.text import CountVectorizer\n",
    "\n",
    "# Initialize the \"CountVectorizer\" object, which is scikit-learn's\n",
    "# bag of words tool.  \n",
    "vectorizer = CountVectorizer(analyzer = \"word\",   \\\n",
    "                             tokenizer = None,    \\\n",
    "                             preprocessor = None, \\\n",
    "                             stop_words = None,   \\\n",
    "                             min_df = 15) \n",
    "\n",
    "# fit_transform() Convert a collection of text documents (reviews in our example) to a matrix of token counts.\n",
    "# This implementation produces a sparse representation.\n",
    "# The input to fit_transform should be a list of strings.\n",
    "train_data_features = vectorizer.fit_transform(clean_train_reviews)\n",
    "###train_data_features = vectorizer.fit_transform(train['review'])\n",
    "\n",
    "# Numpy arrays are easy to work with, so convert the result to an \n",
    "# array\n",
    "\n",
    "train_data_features = train_data_features.toarray()"
   ]
  },
  {
   "cell_type": "code",
   "execution_count": 22,
   "metadata": {
    "collapsed": false
   },
   "outputs": [
    {
     "data": {
      "text/plain": [
       "(158, 66)"
      ]
     },
     "execution_count": 22,
     "metadata": {},
     "output_type": "execute_result"
    }
   ],
   "source": [
    "train_data_features.shape"
   ]
  },
  {
   "cell_type": "markdown",
   "metadata": {},
   "source": [
    "## Train Model - First try simple random forest"
   ]
  },
  {
   "cell_type": "code",
   "execution_count": 23,
   "metadata": {
    "collapsed": false
   },
   "outputs": [
    {
     "name": "stdout",
     "output_type": "stream",
     "text": [
      "[u'add', u'also', u'american', u'apples', u'back', u'bake', u'baking', u'bananas', u'batter', u'beat', u'blueberries', u'bowl', u'brown', u'butter', u'center', u'cinnamon', u'combine', u'comes', u'cool', u'cover', u'cream', u'cup', u'cut', u'degrees', u'dish', u'egg', u'eggs', u'first', u'flour', u'grease', u'inch', u'large', u'make', u'medium', u'milk', u'minutes', u'mix', u'mixture', u'monday', u'new', u'one', u'oven', u'pan', u'place', u'pour', u'powder', u'preheat', u'preheated', u'prepared', u'remaining']\n"
     ]
    }
   ],
   "source": [
    "vocab = vectorizer.get_feature_names()\n",
    "print(vocab[0:50])"
   ]
  },
  {
   "cell_type": "code",
   "execution_count": 24,
   "metadata": {
    "collapsed": false
   },
   "outputs": [
    {
     "name": "stdout",
     "output_type": "stream",
     "text": [
      "(29, u'add')\n",
      "(20, u'also')\n",
      "(22, u'american')\n",
      "(36, u'apples')\n",
      "(17, u'back')\n",
      "(50, u'bake')\n",
      "(61, u'baking')\n",
      "(22, u'bananas')\n",
      "(32, u'batter')\n",
      "(41, u'beat')\n",
      "(27, u'blueberries')\n",
      "(83, u'bowl')\n",
      "(28, u'brown')\n",
      "(58, u'butter')\n",
      "(20, u'center')\n",
      "(28, u'cinnamon')\n",
      "(37, u'combine')\n",
      "(17, u'comes')\n",
      "(38, u'cool')\n",
      "(16, u'cover')\n",
      "(32, u'cream')\n",
      "(41, u'cup')\n",
      "(19, u'cut')\n",
      "(94, u'degrees')\n",
      "(19, u'dish')\n",
      "(21, u'egg')\n",
      "(20, u'eggs')\n",
      "(33, u'first')\n",
      "(69, u'flour')\n",
      "(25, u'grease')\n",
      "(45, u'inch')\n",
      "(36, u'large')\n",
      "(25, u'make')\n",
      "(33, u'medium')\n",
      "(32, u'milk')\n",
      "(75, u'minutes')\n",
      "(51, u'mix')\n",
      "(67, u'mixture')\n",
      "(15, u'monday')\n",
      "(23, u'new')\n",
      "(35, u'one')\n",
      "(91, u'oven')\n",
      "(66, u'pan')\n",
      "(28, u'place')\n",
      "(35, u'pour')\n",
      "(18, u'powder')\n",
      "(43, u'preheat')\n",
      "(42, u'preheated')\n",
      "(21, u'prepared')\n",
      "(25, u'remaining')\n",
      "(21, u'said')\n",
      "(27, u'salt')\n",
      "(19, u'set')\n",
      "(23, u'smooth')\n",
      "(15, u'soda')\n",
      "(22, u'spread')\n",
      "(23, u'sprinkle')\n",
      "(71, u'stir')\n",
      "(92, u'sugar')\n",
      "(21, u'time')\n",
      "(52, u'together')\n",
      "(36, u'top')\n",
      "(19, u'two')\n",
      "(40, u'vanilla')\n",
      "(30, u'well')\n",
      "(35, u'white')\n"
     ]
    }
   ],
   "source": [
    "import numpy as np\n",
    "\n",
    "# Sum up the counts of each vocabulary word\n",
    "dist = np.sum(train_data_features, axis=0)\n",
    "\n",
    "# For each, print the vocabulary word and the number of times it \n",
    "# appears in the training set\n",
    "for tag, count in zip(vocab, dist):\n",
    "    print(count, tag)"
   ]
  },
  {
   "cell_type": "markdown",
   "metadata": {},
   "source": [
    "## Train the model and watch the cross validation score"
   ]
  },
  {
   "cell_type": "code",
   "execution_count": 28,
   "metadata": {
    "collapsed": false
   },
   "outputs": [
    {
     "name": "stdout",
     "output_type": "stream",
     "text": [
      "[ 0.68181818  0.72727273  0.84210526  0.89473684  0.84210526  0.73684211\n",
      "  0.78947368  0.63157895]\n"
     ]
    }
   ],
   "source": [
    "from sklearn.ensemble import RandomForestClassifier\n",
    "from sklearn.model_selection import cross_val_score\n",
    "import numpy as np\n",
    "#split to train & test\n",
    "msk = np.random.rand(len(clean_train_reviews)) < 0.8\n",
    "train_x = train_data_features[msk]\n",
    "test_x = train_data_features[~msk]\n",
    "train_y = df.loc[msk,\"text\"]\n",
    "test_y = df.loc[~msk,\"text\"]\n",
    "\n",
    "forest = RandomForestClassifier(n_estimators = 100) \n",
    "forest = forest.fit( train_x, train_y )\n",
    "\n",
    "forest.score(test_x,test_y)\n",
    "cross_validation = cross_val_score(forest, train_data_features, df[\"text\"], cv=8)  \n",
    "print(cross_validation)"
   ]
  },
  {
   "cell_type": "markdown",
   "metadata": {},
   "source": [
    "## We can see that the result are not so good - lets improve them!!"
   ]
  },
  {
   "cell_type": "markdown",
   "metadata": {},
   "source": [
    "## First, lets try adding tf-id to our model as we learned at class"
   ]
  },
  {
   "cell_type": "code",
   "execution_count": 29,
   "metadata": {
    "collapsed": false
   },
   "outputs": [],
   "source": [
    "from sklearn.feature_extraction.text import TfidfVectorizer\n",
    "tfidfvectorizer = TfidfVectorizer(analyzer = \"word\",tokenizer = None, ngram_range=(1,3), max_features = 150, stop_words = None,min_df=5, use_idf=True)\n",
    "tfidf_matrix = tfidfvectorizer.fit_transform(clean_train_reviews)"
   ]
  },
  {
   "cell_type": "code",
   "execution_count": 30,
   "metadata": {
    "collapsed": false
   },
   "outputs": [
    {
     "name": "stdout",
     "output_type": "stream",
     "text": [
      "[ 0.68181818  0.77272727  0.84210526  0.89473684  0.78947368  0.73684211\n",
      "  0.84210526  0.68421053]\n"
     ]
    }
   ],
   "source": [
    "from sklearn.ensemble import RandomForestClassifier\n",
    "\n",
    "#split to train & test\n",
    "# msk = np.random.rand(len(clean_train_reviews)) < 0.8\n",
    "# train_x = tfidf_matrix[msk]\n",
    "# test_x = tfidf_matrix[~msk]\n",
    "# train_y = df.loc[msk,\"text\"]\n",
    "# test_y = df.loc[~msk,\"text\"]\n",
    "forest = RandomForestClassifier(n_estimators = 100, random_state=1) \n",
    "forest = forest.fit( train_x, train_y )\n",
    "\n",
    "forest.score(test_x,test_y)\n",
    "cross_validation2 = cross_val_score(forest, train_data_features, df[\"text\"], cv=8)  \n",
    "print(cross_validation2)"
   ]
  },
  {
   "cell_type": "markdown",
   "metadata": {},
   "source": [
    "## The scores are still not so good\n",
    "## lets minimize the min_df to 10"
   ]
  },
  {
   "cell_type": "code",
   "execution_count": 31,
   "metadata": {
    "collapsed": true
   },
   "outputs": [],
   "source": [
    "\n",
    "# Initialize the \"CountVectorizer\" object, which is scikit-learn's\n",
    "# bag of words tool.  \n",
    "vectorizer = CountVectorizer(analyzer = \"word\",   \\\n",
    "                             tokenizer = None,    \\\n",
    "                             preprocessor = None, \\\n",
    "                             stop_words = None,   \\\n",
    "                             min_df = 10) \n",
    "\n",
    "# fit_transform() Convert a collection of text documents (reviews in our example) to a matrix of token counts.\n",
    "# This implementation produces a sparse representation.\n",
    "# The input to fit_transform should be a list of strings.\n",
    "train_data_features = vectorizer.fit_transform(clean_train_reviews)\n",
    "###train_data_features = vectorizer.fit_transform(train['review'])\n",
    "\n",
    "# Numpy arrays are easy to work with, so convert the result to an \n",
    "# array\n",
    "\n",
    "train_data_features = train_data_features.toarray()"
   ]
  },
  {
   "cell_type": "code",
   "execution_count": 32,
   "metadata": {
    "collapsed": false
   },
   "outputs": [
    {
     "name": "stdout",
     "output_type": "stream",
     "text": [
      "[ 0.81818182  0.81818182  0.84210526  0.84210526  0.84210526  0.84210526\n",
      "  0.94736842  0.68421053]\n"
     ]
    }
   ],
   "source": [
    "\n",
    "forest = RandomForestClassifier(n_estimators = 100, random_state=1) \n",
    "forest = forest.fit( train_x, train_y )\n",
    "forest.score(test_x,test_y)\n",
    "cross_validation3 = cross_val_score(forest, train_data_features, df[\"text\"], cv=8)  \n",
    "print(cross_validation3)"
   ]
  },
  {
   "cell_type": "code",
   "execution_count": 33,
   "metadata": {
    "collapsed": false
   },
   "outputs": [
    {
     "data": {
      "text/plain": [
       "0.90625"
      ]
     },
     "execution_count": 33,
     "metadata": {},
     "output_type": "execute_result"
    }
   ],
   "source": [
    "from sklearn.model_selection import train_test_split\n",
    "x = train_data_features\n",
    "y = df['text']\n",
    "train_x, test_x, train_y, test_y = train_test_split(train_data_features, y, test_size=0.2, random_state=150)\n",
    "forest = forest.fit(train_x, train_y)\n",
    "forest.score(test_x, test_y)"
   ]
  },
  {
   "cell_type": "markdown",
   "metadata": {},
   "source": [
    "## 0.90625  % - nice results\n",
    "## Much better results - lets see it in graph and make our final model "
   ]
  },
  {
   "cell_type": "code",
   "execution_count": 34,
   "metadata": {
    "collapsed": false,
    "scrolled": true
   },
   "outputs": [
    {
     "data": {
      "image/png": "[encoded data removed]",
      "text/plain": [
       "<matplotlib.figure.Figure at 0x115fd8f90>"
      ]
     },
     "metadata": {},
     "output_type": "display_data"
    }
   ],
   "source": [
    "\n",
    "rcParams['figure.figsize'] = 8, 6\n",
    "t = np.arange(1, 9, 1)\n",
    "plt.plot(t, sorted(cross_validation), 'r', label='In at least 15 of the documents')\n",
    "plt.plot(t, sorted(cross_validation2), 'b', label='Using tfidf')\n",
    "plt.plot(t, sorted(cross_validation3), 'g', label='In at least 10 of the documents')\n",
    "plt.ylabel('score')\n",
    "plt.xlabel('cross validation')\n",
    "plt.title('Comparing our 3 modles')\n",
    "plt.legend(loc='upper center')\n",
    "plt.show()"
   ]
  },
  {
   "cell_type": "markdown",
   "metadata": {},
   "source": [
    "## We can see clearly that the green graph is the best one"
   ]
  }
 ],
 "metadata": {
  "anaconda-cloud": {},
  "kernelspec": {
   "display_name": "Python [conda root]",
   "language": "python",
   "name": "conda-root-py"
  },
  "language_info": {
   "codemirror_mode": {
    "name": "ipython",
    "version": 2
   },
   "file_extension": ".py",
   "mimetype": "text/x-python",
   "name": "python",
   "nbconvert_exporter": "python",
   "pygments_lexer": "ipython2",
   "version": "2.7.12"
  }
 },
 "nbformat": 4,
 "nbformat_minor": 1
}
